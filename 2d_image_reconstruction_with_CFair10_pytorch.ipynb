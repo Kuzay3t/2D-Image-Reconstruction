{
  "nbformat": 4,
  "nbformat_minor": 0,
  "metadata": {
    "colab": {
      "provenance": [],
      "authorship_tag": "ABX9TyMc4JN4Z8VLDDpLUuHzqOBA",
      "include_colab_link": true
    },
    "kernelspec": {
      "name": "python3",
      "display_name": "Python 3"
    },
    "language_info": {
      "name": "python"
    }
  },
  "cells": [
    {
      "cell_type": "markdown",
      "metadata": {
        "id": "view-in-github",
        "colab_type": "text"
      },
      "source": [
        "<a href=\"https://colab.research.google.com/github/Kuzay3t/2D-Image-Reconstruction/blob/main/2d_image_reconstruction_with_CFair10_pytorch.ipynb\" target=\"_parent\"><img src=\"https://colab.research.google.com/assets/colab-badge.svg\" alt=\"Open In Colab\"/></a>"
      ]
    },
    {
      "cell_type": "markdown",
      "source": [
        "Recontructing C-FAIR 10 WITH PYTORCH"
      ],
      "metadata": {
        "id": "B-tKBPGTRYsX"
      }
    },
    {
      "cell_type": "code",
      "execution_count": 26,
      "metadata": {
        "id": "9E5IZWxhRSpF"
      },
      "outputs": [],
      "source": [
        "import torch\n",
        "import torch.nn as nn\n",
        "import torch.nn.functional as F\n",
        "import torch.optim as optim\n",
        "import torchvision\n",
        "import torchvision.transforms as transforms\n",
        "import matplotlib.pyplot as plt\n",
        "import numpy as np\n",
        "from torch.utils.data import DataLoader"
      ]
    },
    {
      "cell_type": "code",
      "source": [
        "# loading the dataset\n",
        "transform = transforms.Compose([transforms.ToTensor()])"
      ],
      "metadata": {
        "id": "OXfTYwOxRlB4"
      },
      "execution_count": 27,
      "outputs": []
    },
    {
      "cell_type": "code",
      "source": [
        "# loading the dataset\n",
        "train_data = torchvision.datasets.CIFAR10(root='./data', train=True, download=True, transform=transform)\n",
        "test_data = torchvision.datasets.CIFAR10(root='./data', train=False, download=True, transform=transform)"
      ],
      "metadata": {
        "id": "p_-DH4Q1RpgG"
      },
      "execution_count": 28,
      "outputs": []
    },
    {
      "cell_type": "code",
      "source": [
        "\n",
        "train_loader = torch.utils.data.DataLoader(train_data, batch_size=64, shuffle=True)\n",
        "test_loader = torch.utils.data.DataLoader(test_data, batch_size=64, shuffle=False)\n"
      ],
      "metadata": {
        "id": "LGMvz4lfRrgr"
      },
      "execution_count": 29,
      "outputs": []
    },
    {
      "cell_type": "code",
      "source": [
        "# adding noise to the image\n",
        "\n",
        "def add_noise(images, noise_factor=0.2):\n",
        "    noisy_images = images + noise_factor * torch.randn_like(images)\n",
        "    noisy_images = torch.clip(noisy_images, 0., 1.)\n",
        "    return noisy_images\n",
        "\n"
      ],
      "metadata": {
        "id": "cEbNED2QR3cT"
      },
      "execution_count": 30,
      "outputs": []
    },
    {
      "cell_type": "code",
      "source": [
        "# building the autoencoder model\n",
        "\n",
        "class CIFARAutoencoder(nn.Module):\n",
        "    def __init__(self):\n",
        "        super(CIFARAutoencoder, self).__init__()\n",
        "        # Encoder\n",
        "        self.encoder = nn.Sequential(\n",
        "            nn.Conv2d(3, 32, 3, stride=2, padding=1),  # (32x16x16)\n",
        "            nn.ReLU(),\n",
        "            nn.Conv2d(32, 64, 3, stride=2, padding=1), # (64x8x8)\n",
        "            nn.ReLU(),\n",
        "            nn.Conv2d(64, 128, 3, stride=2, padding=1),# (128x4x4)\n",
        "            nn.ReLU()\n",
        "        )\n",
        "        # Decoder\n",
        "        self.decoder = nn.Sequential(\n",
        "            nn.ConvTranspose2d(128, 64, 3, stride=2, padding=1, output_padding=1), # (64x8x8)\n",
        "            nn.ReLU(),\n",
        "            nn.ConvTranspose2d(64, 32, 3, stride=2, padding=1, output_padding=1),  # (32x16x16)\n",
        "            nn.ReLU(),\n",
        "            nn.ConvTranspose2d(32, 3, 3, stride=2, padding=1, output_padding=1),   # (3x32x32)\n",
        "            nn.Sigmoid()\n",
        "        )\n",
        "\n",
        "    def forward(self, x):\n",
        "        x = self.encoder(x)\n",
        "        x = self.decoder(x)\n",
        "        return x\n"
      ],
      "metadata": {
        "id": "z_ltWCbhR9Qa"
      },
      "execution_count": 31,
      "outputs": []
    },
    {
      "cell_type": "code",
      "source": [
        "# setting the model\n",
        "\n",
        "device = torch.device(\"cuda\" if torch.cuda.is_available() else \"cpu\")\n",
        "model = CIFARAutoencoder().to(device)\n",
        "criterion = nn.MSELoss()\n",
        "optimizer = optim.Adam(model.parameters(), lr=1e-3)\n"
      ],
      "metadata": {
        "id": "42R7XbabSJ20"
      },
      "execution_count": 32,
      "outputs": []
    },
    {
      "cell_type": "code",
      "source": [
        "# training the model\n",
        "\n",
        "num_epochs = 10\n",
        "for epoch in range(num_epochs):\n",
        "    for images, _ in train_loader:\n",
        "        images = images.to(device)\n",
        "        noisy_images = add_noise(images).to(device)\n",
        "\n",
        "        outputs = model(noisy_images)\n",
        "        loss = criterion(outputs, images)\n",
        "\n",
        "        optimizer.zero_grad()\n",
        "        loss.backward()\n",
        "        optimizer.step()\n",
        "\n",
        "    print(f\"Epoch [{epoch+1}/{num_epochs}], Loss: {loss.item():.4f}\")\n"
      ],
      "metadata": {
        "colab": {
          "base_uri": "https://localhost:8080/"
        },
        "id": "fe8zQzGJSSPA",
        "outputId": "f1e7b7df-2644-463f-8610-b436846e4e7a"
      },
      "execution_count": null,
      "outputs": [
        {
          "output_type": "stream",
          "name": "stdout",
          "text": [
            "Epoch [1/10], Loss: 0.0081\n",
            "Epoch [2/10], Loss: 0.0063\n",
            "Epoch [3/10], Loss: 0.0055\n",
            "Epoch [4/10], Loss: 0.0050\n",
            "Epoch [5/10], Loss: 0.0050\n",
            "Epoch [6/10], Loss: 0.0044\n"
          ]
        }
      ]
    },
    {
      "cell_type": "code",
      "source": [
        "# visualising the reconstruction\n",
        "\n",
        "model.eval()\n",
        "with torch.no_grad():\n",
        "    for images, _ in test_loader:\n",
        "        images = images.to(device)\n",
        "        noisy_images = add_noise(images).to(device)\n",
        "        reconstructed = model(noisy_images)\n",
        "        mse_score = F.mse_loss(reconstructed, images) # Calculate MSE here\n",
        "        break  # single batch"
      ],
      "metadata": {
        "id": "eGSX1chHSW6z"
      },
      "execution_count": null,
      "outputs": []
    },
    {
      "cell_type": "code",
      "source": [
        "# Plot 6 examples\n",
        "fig, axes = plt.subplots(3, 6, figsize=(12, 6))\n",
        "for i in range(6):\n",
        "    axes[0, i].imshow(images[i].permute(1, 2, 0).cpu().numpy())\n",
        "    axes[0, i].set_title(\"Original\")\n",
        "    axes[0, i].axis(\"off\")\n",
        "\n",
        "    axes[1, i].imshow(noisy_images[i].permute(1, 2, 0).cpu().numpy())\n",
        "    axes[1, i].set_title(\"Noisy\")\n",
        "    axes[1, i].axis(\"off\")\n",
        "\n",
        "    axes[2, i].imshow(reconstructed[i].permute(1, 2, 0).cpu().numpy())\n",
        "    axes[2, i].set_title(\"Denoised\")\n",
        "    axes[2, i].axis(\"off\")\n",
        "plt.tight_layout()\n",
        "plt.show()\n"
      ],
      "metadata": {
        "id": "venZmQbcS9kQ"
      },
      "execution_count": null,
      "outputs": []
    },
    {
      "cell_type": "code",
      "source": [
        "# measuring the reconstruction performance\n",
        "\n",
        "# mse_score = F.mse_loss(reconstructed, images) # This line is moved\n",
        "print(\"CIFAR-10 PyTorch Reconstruction MSE:\", mse_score.item()) # Now mse_score is defined"
      ],
      "metadata": {
        "id": "v6vKFuenTAnK"
      },
      "execution_count": null,
      "outputs": []
    }
  ]
}